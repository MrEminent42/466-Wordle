{
 "cells": [
  {
   "cell_type": "markdown",
   "metadata": {},
   "source": [
    "# Example code\n",
    "\n",
    "Here is an example code snippet\n"
   ]
  },
  {
   "cell_type": "code",
   "execution_count": null,
   "metadata": {},
   "outputs": [],
   "source": [
    "print(\"Hello\")"
   ]
  },
  {
   "cell_type": "markdown",
   "metadata": {},
   "source": [
    "# Wordle"
   ]
  },
  {
   "cell_type": "markdown",
   "metadata": {},
   "source": [
    "## required packages\n",
    "\n",
    "install please first :)"
   ]
  },
  {
   "cell_type": "code",
   "execution_count": null,
   "metadata": {},
   "outputs": [],
   "source": [
    "%pip install simple-colors"
   ]
  },
  {
   "cell_type": "markdown",
   "metadata": {},
   "source": [
    "## Game setup\n",
    "\n",
    "Data structures"
   ]
  },
  {
   "cell_type": "code",
   "execution_count": null,
   "metadata": {},
   "outputs": [],
   "source": [
    "from enum import IntEnum\n",
    "from simple_colors import *\n",
    "\n",
    "class Color(IntEnum):\n",
    "    GREY = GRAY = 0\n",
    "    YELLOW = 1\n",
    "    GREEN = 2\n",
    "\n",
    "class Tile:\n",
    "    def __init__(self, character: str, color: Color):\n",
    "        self.char = character\n",
    "        self.color = color\n",
    "\n",
    "class Board:\n",
    "    def __init__(self):\n",
    "      self.board = []\n",
    "    \n",
    "    def append_row(self, row: list[Tile]):\n",
    "      self.board.append(row);\n",
    "    \n",
    "    def get_row(self, i) -> list[Tile]:\n",
    "      return self.board[i]\n",
    "    \n",
    "    def get_rows(self) -> list[list[Tile]]:\n",
    "      return self.board\n",
    "    \n",
    "    def get_num_rows(self) -> int:\n",
    "      return len(self.board)\n",
    "    "
   ]
  },
  {
   "cell_type": "markdown",
   "metadata": {},
   "source": [
    "Helpful debug program to enable/disable all debug print messages at once"
   ]
  },
  {
   "cell_type": "code",
   "execution_count": null,
   "metadata": {},
   "outputs": [],
   "source": [
    "def debug(*info):\n",
    "  p = False\n",
    "  if p: print(info)"
   ]
  },
  {
   "cell_type": "markdown",
   "metadata": {},
   "source": [
    "The game itself!"
   ]
  },
  {
   "cell_type": "code",
   "execution_count": null,
   "metadata": {},
   "outputs": [],
   "source": [
    "class WordleGame:\n",
    "    def __init__(self, answer):\n",
    "        self.answer = answer.upper()\n",
    "        self.board = Board()\n",
    "        self.is_complete = False\n",
    "        self.win = False\n",
    "\n",
    "    ## string representation of the Wordle board \n",
    "    ## returns with color too!\n",
    "    def __repr__(self):\n",
    "        s = \"\"\n",
    "        # in each line\n",
    "        for i, line in enumerate(self.board.get_rows()):\n",
    "            colors = [tile.color for tile in line]\n",
    "            for i, tile in enumerate(line):\n",
    "                # for i, char in enumerate(line):\n",
    "\n",
    "                if tile.color == Color.GREY:\n",
    "                  s += black(tile.char, 'bold')\n",
    "                elif tile.color == Color.YELLOW:\n",
    "                  s += yellow(tile.char, 'bold')\n",
    "                else:\n",
    "                  s += green(tile.char, 'bold')\n",
    "            s += \"\\n\"\n",
    "        return s\n",
    "\n",
    "    ## Takes a five-letter guess, records this guess on the game's board.\n",
    "    ## Returns the array of Colors with each index corresponding to the color of the letter at that index in the guess\n",
    "    def guess(self, guess):\n",
    "        tiles = []\n",
    "        if len(guess) != 5:\n",
    "            raise ValueError(\n",
    "                'Wordle guess must be a 5-letter word. Could not guess with word \"'\n",
    "                + guess\n",
    "                + '\".'\n",
    "            )\n",
    "        # convert everything to upper case\n",
    "        guess = guess.upper()\n",
    "        # debug print\n",
    "        debug(\"Your guess:\", guess)\n",
    "        debug(\"The answer:\", self.answer)\n",
    "        colors = self.get_colors(guess)\n",
    "        # log guess to board\n",
    "        tiles = [Tile(guess[i], colors[i]) for i in range(5)]\n",
    "        self.board.append_row(tiles)\n",
    "\n",
    "        # check for game over\n",
    "        if self.board.get_num_rows() >= 6:\n",
    "            self.is_complete = True\n",
    "        elif guess == self.answer:\n",
    "            print(\"WIN!\")\n",
    "            self.is_complete = self.win = True\n",
    "\n",
    "        # give back list of colors\n",
    "        return colors\n",
    "\n",
    "    ## get the colors of a word guess\n",
    "    ## input: string\n",
    "    ## output: list of Colors, each color corresponding to the \n",
    "    ##         appropriate game color of the letter at that index\n",
    "    def get_colors(self, guess: str):\n",
    "        ## grey by default\n",
    "        colors = [Color.GREY for i in range(len(guess))]\n",
    "\n",
    "        # count # occurrences of each of the letters in the correct answer\n",
    "        occurrences_remaining = {}\n",
    "        for char in self.answer:\n",
    "            if char in occurrences_remaining:\n",
    "                occurrences_remaining[char] += 1\n",
    "            else:\n",
    "                occurrences_remaining[char] = 1\n",
    "\n",
    "        ## appropriately color the letters\n",
    "\n",
    "        ## greens first\n",
    "        ## if the character is in the correct place\n",
    "        for i, char in enumerate(guess):\n",
    "            if self.answer[i] == char:\n",
    "                colors[i] = Color.GREEN\n",
    "                occurrences_remaining[char] -= 1\n",
    "                debug(\"Green:\", char)\n",
    "\n",
    "        ## yellows next \n",
    "        ## if the character is in the word, but in the wrong place\n",
    "        for i, char in enumerate(guess):\n",
    "          ## skip if already colored greeen\n",
    "          ## skip if all occurrences of this letter have been accounted for\n",
    "          if colors[i] == Color.GREEN \\\n",
    "            or char not in occurrences_remaining \\\n",
    "            or occurrences_remaining[char] == 0:\n",
    "            continue\n",
    "\n",
    "          colors.append(Color.YELLOW)\n",
    "          debug(\"Yellow:\", char)\n",
    "          # record that we have accounted for this occurence\n",
    "          occurrences_remaining[char] -= 1\n",
    "\n",
    "        return colors\n",
    "\n",
    "    def is_complete(self):\n",
    "        return self.is_complete\n",
    "\n",
    "    def run_game(self):\n",
    "        print(\"Welcome to Wordle-AI!\")\n",
    "        while not self.is_complete:\n",
    "            self.guess(input(\"Guess: \"))\n",
    "            print(self)\n",
    "        if self.win:\n",
    "            print(\"Congrats! You found the word in\", self.board.get_num_rows(), \"tries.\")\n",
    "        else:\n",
    "            print(\"Darn! You didn't find the word. It was \" + self.answer + \".\")\n",
    "\n",
    "\n"
   ]
  },
  {
   "cell_type": "markdown",
   "metadata": {},
   "source": [
    "Optional: play wordle"
   ]
  },
  {
   "cell_type": "code",
   "execution_count": null,
   "metadata": {},
   "outputs": [],
   "source": [
    "game = WordleGame(\"HELLO\")\n",
    "game.run_game()"
   ]
  }
 ],
 "metadata": {
  "kernelspec": {
   "display_name": "Python 3",
   "language": "python",
   "name": "python3"
  },
  "language_info": {
   "codemirror_mode": {
    "name": "ipython",
    "version": 3
   },
   "file_extension": ".py",
   "mimetype": "text/x-python",
   "name": "python",
   "nbconvert_exporter": "python",
   "pygments_lexer": "ipython3",
   "version": "3.12.1"
  }
 },
 "nbformat": 4,
 "nbformat_minor": 2
}
